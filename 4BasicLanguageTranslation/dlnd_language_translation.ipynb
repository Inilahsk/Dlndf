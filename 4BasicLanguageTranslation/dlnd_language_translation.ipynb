{
 "cells": [
  {
   "cell_type": "markdown",
   "metadata": {
    "collapsed": true
   },
   "source": [
    "# Language Translation\n",
    "In this project, you’re going to take a peek into the realm of neural network machine translation.  You’ll be training a sequence to sequence model on a dataset of English and French sentences that can translate new sentences from English to French.\n",
    "## Get the Data\n",
    "Since translating the whole language of English to French will take lots of time to train, we have provided you with a small portion of the English corpus."
   ]
  },
  {
   "cell_type": "code",
   "execution_count": 2,
   "metadata": {
    "collapsed": true
   },
   "outputs": [],
   "source": [
    "\"\"\"\n",
    "DON'T MODIFY ANYTHING IN THIS CELL\n",
    "\"\"\"\n",
    "import helper\n",
    "import problem_unittests as tests\n",
    "\n",
    "source_path = 'data/small_vocab_en'\n",
    "target_path = 'data/small_vocab_fr'\n",
    "source_text = helper.load_data(source_path)\n",
    "target_text = helper.load_data(target_path)"
   ]
  },
  {
   "cell_type": "markdown",
   "metadata": {},
   "source": [
    "## Explore the Data\n",
    "Play around with view_sentence_range to view different parts of the data."
   ]
  },
  {
   "cell_type": "code",
   "execution_count": 3,
   "metadata": {
    "collapsed": false
   },
   "outputs": [
    {
     "name": "stdout",
     "output_type": "stream",
     "text": [
      "Dataset Stats\n",
      "Roughly the number of unique words: 227\n",
      "Number of sentences: 137861\n",
      "Average number of words in a sentence: 13.225277634719028\n",
      "\n",
      "English sentences 0 to 10:\n",
      "new jersey is sometimes quiet during autumn , and it is snowy in april .\n",
      "the united states is usually chilly during july , and it is usually freezing in november .\n",
      "california is usually quiet during march , and it is usually hot in june .\n",
      "the united states is sometimes mild during june , and it is cold in september .\n",
      "your least liked fruit is the grape , but my least liked is the apple .\n",
      "his favorite fruit is the orange , but my favorite is the grape .\n",
      "paris is relaxing during december , but it is usually chilly in july .\n",
      "new jersey is busy during spring , and it is never hot in march .\n",
      "our least liked fruit is the lemon , but my least liked is the grape .\n",
      "the united states is sometimes busy during january , and it is sometimes warm in november .\n",
      "\n",
      "French sentences 0 to 10:\n",
      "new jersey est parfois calme pendant l' automne , et il est neigeux en avril .\n",
      "les états-unis est généralement froid en juillet , et il gèle habituellement en novembre .\n",
      "california est généralement calme en mars , et il est généralement chaud en juin .\n",
      "les états-unis est parfois légère en juin , et il fait froid en septembre .\n",
      "votre moins aimé fruit est le raisin , mais mon moins aimé est la pomme .\n",
      "son fruit préféré est l'orange , mais mon préféré est le raisin .\n",
      "paris est relaxant en décembre , mais il est généralement froid en juillet .\n",
      "new jersey est occupé au printemps , et il est jamais chaude en mars .\n",
      "notre fruit est moins aimé le citron , mais mon moins aimé est le raisin .\n",
      "les états-unis est parfois occupé en janvier , et il est parfois chaud en novembre .\n"
     ]
    }
   ],
   "source": [
    "view_sentence_range = (0, 10)\n",
    "\n",
    "\"\"\"\n",
    "DON'T MODIFY ANYTHING IN THIS CELL\n",
    "\"\"\"\n",
    "import numpy as np\n",
    "\n",
    "print('Dataset Stats')\n",
    "print('Roughly the number of unique words: {}'.format(len({word: None for word in source_text.split()})))\n",
    "\n",
    "sentences = source_text.split('\\n')\n",
    "word_counts = [len(sentence.split()) for sentence in sentences]\n",
    "print('Number of sentences: {}'.format(len(sentences)))\n",
    "print('Average number of words in a sentence: {}'.format(np.average(word_counts)))\n",
    "\n",
    "print()\n",
    "print('English sentences {} to {}:'.format(*view_sentence_range))\n",
    "print('\\n'.join(source_text.split('\\n')[view_sentence_range[0]:view_sentence_range[1]]))\n",
    "print()\n",
    "print('French sentences {} to {}:'.format(*view_sentence_range))\n",
    "print('\\n'.join(target_text.split('\\n')[view_sentence_range[0]:view_sentence_range[1]]))"
   ]
  },
  {
   "cell_type": "markdown",
   "metadata": {},
   "source": [
    "## Implement Preprocessing Function\n",
    "### Text to Word Ids\n",
    "As you did with other RNNs, you must turn the text into a number so the computer can understand it. In the function `text_to_ids()`, you'll turn `source_text` and `target_text` from words to ids.  However, you need to add the `<EOS>` word id at the end of each sentence from `target_text`.  This will help the neural network predict when the sentence should end.\n",
    "\n",
    "You can get the `<EOS>` word id by doing:\n",
    "```python\n",
    "target_vocab_to_int['<EOS>']\n",
    "```\n",
    "You can get other word ids using `source_vocab_to_int` and `target_vocab_to_int`."
   ]
  },
  {
   "cell_type": "code",
   "execution_count": 4,
   "metadata": {
    "collapsed": false
   },
   "outputs": [
    {
     "name": "stdout",
     "output_type": "stream",
     "text": [
      "Tests Passed\n"
     ]
    }
   ],
   "source": [
    "def text_to_ids(source_text, target_text, source_vocab_to_int, target_vocab_to_int):\n",
    "    \"\"\"\n",
    "    Convert source and target text to proper word ids\n",
    "    :param source_text: String that contains all the source text.\n",
    "    :param target_text: String that contains all the target text.\n",
    "    :param source_vocab_to_int: Dictionary to go from the source words to an id\n",
    "    :param target_vocab_to_int: Dictionary to go from the target words to an id\n",
    "    :return: A tuple of lists (source_id_text, target_id_text)\n",
    "    \"\"\"\n",
    "    # TODO: Implement Function\n",
    "    source_id_text = [[source_vocab_to_int.get(ch,source_vocab_to_int['<UNK>']) for ch in ln.split()] for ln in source_text.split('\\n')]\n",
    "    target_id_text = [[target_vocab_to_int.get(ch,target_vocab_to_int['<UNK>']) for ch in ln.split()]+[target_vocab_to_int['<EOS>']] for ln in target_text.split('\\n')]\n",
    "    \n",
    "    \n",
    "    return source_id_text, target_id_text\n",
    "\n",
    "\n",
    "\n",
    "\n",
    "\"\"\"\n",
    "DON'T MODIFY ANYTHING IN THIS CELL THAT IS BELOW THIS LINE\n",
    "\"\"\"\n",
    "tests.test_text_to_ids(text_to_ids)"
   ]
  },
  {
   "cell_type": "markdown",
   "metadata": {},
   "source": [
    "### Preprocess all the data and save it\n",
    "Running the code cell below will preprocess all the data and save it to file."
   ]
  },
  {
   "cell_type": "code",
   "execution_count": 5,
   "metadata": {
    "collapsed": true
   },
   "outputs": [],
   "source": [
    "\"\"\"\n",
    "DON'T MODIFY ANYTHING IN THIS CELL\n",
    "\"\"\"\n",
    "helper.preprocess_and_save_data(source_path, target_path, text_to_ids)"
   ]
  },
  {
   "cell_type": "markdown",
   "metadata": {},
   "source": [
    "# Check Point\n",
    "This is your first checkpoint. If you ever decide to come back to this notebook or have to restart the notebook, you can start from here. The preprocessed data has been saved to disk."
   ]
  },
  {
   "cell_type": "code",
   "execution_count": 6,
   "metadata": {
    "collapsed": true
   },
   "outputs": [],
   "source": [
    "\"\"\"\n",
    "DON'T MODIFY ANYTHING IN THIS CELL\n",
    "\"\"\"\n",
    "import numpy as np\n",
    "import helper\n",
    "\n",
    "(source_int_text, target_int_text), (source_vocab_to_int, target_vocab_to_int), _ = helper.load_preprocess()"
   ]
  },
  {
   "cell_type": "markdown",
   "metadata": {},
   "source": [
    "### Check the Version of TensorFlow and Access to GPU\n",
    "This will check to make sure you have the correct version of TensorFlow and access to a GPU"
   ]
  },
  {
   "cell_type": "code",
   "execution_count": 7,
   "metadata": {
    "collapsed": false
   },
   "outputs": [
    {
     "name": "stdout",
     "output_type": "stream",
     "text": [
      "TensorFlow Version: 1.0.0\n",
      "Default GPU Device: /gpu:0\n"
     ]
    }
   ],
   "source": [
    "\"\"\"\n",
    "DON'T MODIFY ANYTHING IN THIS CELL\n",
    "\"\"\"\n",
    "from distutils.version import LooseVersion\n",
    "import warnings\n",
    "import tensorflow as tf\n",
    "\n",
    "# Check TensorFlow Version\n",
    "assert LooseVersion(tf.__version__) in [LooseVersion('1.0.0'), LooseVersion('1.0.1')], 'This project requires TensorFlow version 1.0  You are using {}'.format(tf.__version__)\n",
    "print('TensorFlow Version: {}'.format(tf.__version__))\n",
    "\n",
    "# Check for a GPU\n",
    "if not tf.test.gpu_device_name():\n",
    "    warnings.warn('No GPU found. Please use a GPU to train your neural network.')\n",
    "else:\n",
    "    print('Default GPU Device: {}'.format(tf.test.gpu_device_name()))"
   ]
  },
  {
   "cell_type": "markdown",
   "metadata": {},
   "source": [
    "## Build the Neural Network\n",
    "You'll build the components necessary to build a Sequence-to-Sequence model by implementing the following functions below:\n",
    "- `model_inputs`\n",
    "- `process_decoding_input`\n",
    "- `encoding_layer`\n",
    "- `decoding_layer_train`\n",
    "- `decoding_layer_infer`\n",
    "- `decoding_layer`\n",
    "- `seq2seq_model`\n",
    "\n",
    "### Input\n",
    "Implement the `model_inputs()` function to create TF Placeholders for the Neural Network. It should create the following placeholders:\n",
    "\n",
    "- Input text placeholder named \"input\" using the TF Placeholder name parameter with rank 2.\n",
    "- Targets placeholder with rank 2.\n",
    "- Learning rate placeholder with rank 0.\n",
    "- Keep probability placeholder named \"keep_prob\" using the TF Placeholder name parameter with rank 0.\n",
    "\n",
    "Return the placeholders in the following the tuple (Input, Targets, Learing Rate, Keep Probability)"
   ]
  },
  {
   "cell_type": "code",
   "execution_count": 8,
   "metadata": {
    "collapsed": false
   },
   "outputs": [
    {
     "name": "stdout",
     "output_type": "stream",
     "text": [
      "Tests Passed\n"
     ]
    }
   ],
   "source": [
    "def model_inputs():\n",
    "    \"\"\"\n",
    "    Create TF Placeholders for input, targets, and learning rate.\n",
    "    :return: Tuple (input, targets, learning rate, keep probability)\n",
    "    \"\"\"\n",
    "    # TODO: Implement Function\n",
    "    \n",
    "    inputs = tf.placeholder(tf.int32, shape=[None,None], name='input')\n",
    "    targets = tf.placeholder(tf.int32, shape=[None,None], name='targets')\n",
    "    learning_rate = tf.placeholder(tf.float32)\n",
    "    keep_prob = tf.placeholder(tf.float32, name='keep_prob')\n",
    "    \n",
    "    return inputs, targets, learning_rate, keep_prob\n",
    "\n",
    "\"\"\"\n",
    "DON'T MODIFY ANYTHING IN THIS CELL THAT IS BELOW THIS LINE\n",
    "\"\"\"\n",
    "tests.test_model_inputs(model_inputs)"
   ]
  },
  {
   "cell_type": "markdown",
   "metadata": {},
   "source": [
    "### Process Decoding Input\n",
    "Implement `process_decoding_input` using TensorFlow to remove the last word id from each batch in `target_data` and concat the GO ID to the beginning of each batch."
   ]
  },
  {
   "cell_type": "code",
   "execution_count": 9,
   "metadata": {
    "collapsed": false
   },
   "outputs": [
    {
     "name": "stdout",
     "output_type": "stream",
     "text": [
      "Tests Passed\n"
     ]
    }
   ],
   "source": [
    "def process_decoding_input(target_data, target_vocab_to_int, batch_size):\n",
    "    \"\"\"\n",
    "    Preprocess target data for dencoding\n",
    "    :param target_data: Target Placehoder\n",
    "    :param target_vocab_to_int: Dictionary to go from the target words to an id\n",
    "    :param batch_size: Batch Size\n",
    "    :return: Preprocessed target data\n",
    "    \"\"\"\n",
    "    # TODO: Implement Function \n",
    "    \n",
    "    sslice =  tf.strided_slice(target_data,[0,0],[batch_size,-1],[1,1])\n",
    "    return tf.concat([tf.fill([batch_size,1], target_vocab_to_int['<GO>']),sslice],axis=1)\n",
    "\n",
    "\"\"\"\n",
    "DON'T MODIFY ANYTHING IN THIS CELL THAT IS BELOW THIS LINE\n",
    "\"\"\"\n",
    "tests.test_process_decoding_input(process_decoding_input)"
   ]
  },
  {
   "cell_type": "markdown",
   "metadata": {},
   "source": [
    "### Encoding\n",
    "Implement `encoding_layer()` to create a Encoder RNN layer using [`tf.nn.dynamic_rnn()`](https://www.tensorflow.org/api_docs/python/tf/nn/dynamic_rnn)."
   ]
  },
  {
   "cell_type": "code",
   "execution_count": 10,
   "metadata": {
    "collapsed": false
   },
   "outputs": [
    {
     "name": "stdout",
     "output_type": "stream",
     "text": [
      "Tests Passed\n"
     ]
    }
   ],
   "source": [
    "def encoding_layer(rnn_inputs, rnn_size, num_layers, keep_prob):\n",
    "    \"\"\"\n",
    "    Create encoding layer\n",
    "    :param rnn_inputs: Inputs for the RNN\n",
    "    :param rnn_size: RNN Size\n",
    "    :param num_layers: Number of layers\n",
    "    :param keep_prob: Dropout keep probability\n",
    "    :return: RNN state\n",
    "    \"\"\"\n",
    "    # TODO: Implement Function\n",
    "    \n",
    "    lstm = tf.contrib.rnn.BasicLSTMCell(rnn_size)    \n",
    "    dropout = tf.contrib.rnn.DropoutWrapper(lstm, keep_prob)\n",
    "    rnncell = tf.contrib.rnn.MultiRNNCell([dropout]*num_layers)\n",
    "    \n",
    "    _, rnnstate = tf.nn.dynamic_rnn(rnncell, rnn_inputs, dtype=tf.float32)\n",
    "    \n",
    "    return rnnstate\n",
    "\n",
    "\"\"\"\n",
    "DON'T MODIFY ANYTHING IN THIS CELL THAT IS BELOW THIS LINE\n",
    "\"\"\"\n",
    "tests.test_encoding_layer(encoding_layer)"
   ]
  },
  {
   "cell_type": "markdown",
   "metadata": {},
   "source": [
    "### Decoding - Training\n",
    "Create training logits using [`tf.contrib.seq2seq.simple_decoder_fn_train()`](https://www.tensorflow.org/api_docs/python/tf/contrib/seq2seq/simple_decoder_fn_train) and [`tf.contrib.seq2seq.dynamic_rnn_decoder()`](https://www.tensorflow.org/api_docs/python/tf/contrib/seq2seq/dynamic_rnn_decoder).  Apply the `output_fn` to the [`tf.contrib.seq2seq.dynamic_rnn_decoder()`](https://www.tensorflow.org/api_docs/python/tf/contrib/seq2seq/dynamic_rnn_decoder) outputs."
   ]
  },
  {
   "cell_type": "code",
   "execution_count": 11,
   "metadata": {
    "collapsed": false
   },
   "outputs": [
    {
     "name": "stdout",
     "output_type": "stream",
     "text": [
      "Tests Passed\n"
     ]
    }
   ],
   "source": [
    "def decoding_layer_train(encoder_state, dec_cell, dec_embed_input, sequence_length, decoding_scope,\n",
    "                         output_fn, keep_prob):\n",
    "    \"\"\"\n",
    "    Create a decoding layer for training\n",
    "    :param encoder_state: Encoder State\n",
    "    :param dec_cell: Decoder RNN Cell\n",
    "    :param dec_embed_input: Decoder embedded input\n",
    "    :param sequence_length: Sequence Length\n",
    "    :param decoding_scope: TenorFlow Variable Scope for decoding\n",
    "    :param output_fn: Function to apply the output layer\n",
    "    :param keep_prob: Dropout keep probability\n",
    "    :return: Train Logits\n",
    "    \"\"\"\n",
    "    # TODO: Implement Function\n",
    "    \n",
    "    decoder_fn = tf.contrib.seq2seq.simple_decoder_fn_train(encoder_state)\n",
    "    \n",
    "    #outputs,final_state, final_context_state\n",
    "    outputs,_,_ = tf.contrib.seq2seq.dynamic_rnn_decoder(dec_cell,decoder_fn,dec_embed_input,sequence_length, scope=decoding_scope)\n",
    "      \n",
    "        \n",
    "    \n",
    "    return output_fn(tf.nn.dropout(outputs, keep_prob))\n",
    "\n",
    "\n",
    "\"\"\"\n",
    "DON'T MODIFY ANYTHING IN THIS CELL THAT IS BELOW THIS LINE\n",
    "\"\"\"\n",
    "tests.test_decoding_layer_train(decoding_layer_train)"
   ]
  },
  {
   "cell_type": "markdown",
   "metadata": {},
   "source": [
    "### Decoding - Inference\n",
    "Create inference logits using [`tf.contrib.seq2seq.simple_decoder_fn_inference()`](https://www.tensorflow.org/api_docs/python/tf/contrib/seq2seq/simple_decoder_fn_inference) and [`tf.contrib.seq2seq.dynamic_rnn_decoder()`](https://www.tensorflow.org/api_docs/python/tf/contrib/seq2seq/dynamic_rnn_decoder). "
   ]
  },
  {
   "cell_type": "code",
   "execution_count": 27,
   "metadata": {
    "collapsed": false
   },
   "outputs": [
    {
     "name": "stdout",
     "output_type": "stream",
     "text": [
      "Tests Passed\n"
     ]
    }
   ],
   "source": [
    "def decoding_layer_infer(encoder_state, dec_cell, dec_embeddings, start_of_sequence_id, end_of_sequence_id,\n",
    "                         maximum_length, vocab_size, decoding_scope, output_fn, keep_prob):\n",
    "    \"\"\"\n",
    "    Create a decoding layer for inference\n",
    "    :param encoder_state: Encoder state\n",
    "    :param dec_cell: Decoder RNN Cell\n",
    "    :param dec_embeddings: Decoder embeddings\n",
    "    :param start_of_sequence_id: GO ID\n",
    "    :param end_of_sequence_id: EOS Id\n",
    "    :param maximum_length: Maximum length of \n",
    "    :param vocab_size: Size of vocabulary\n",
    "    :param decoding_scope: TensorFlow Variable Scope for decoding\n",
    "    :param output_fn: Function to apply the output layer\n",
    "    :param keep_prob: Dropout keep probability\n",
    "    :return: Inference Logits\n",
    "    \"\"\"\n",
    "    # TODO: Implement Function\n",
    "    \n",
    "    decoder_fn = tf.contrib.seq2seq.simple_decoder_fn_inference(output_fn,encoder_state,dec_embeddings,start_of_sequence_id,end_of_sequence_id,\n",
    "                                                               maximum_length,vocab_size)\n",
    "    \n",
    "    outputs,_,_ = tf.contrib.seq2seq.dynamic_rnn_decoder(dec_cell,decoder_fn,scope = decoding_scope) \n",
    "    return outputs\n",
    "\n",
    "\n",
    "\"\"\"\n",
    "DON'T MODIFY ANYTHING IN THIS CELL THAT IS BELOW THIS LINE\n",
    "\"\"\"\n",
    "tests.test_decoding_layer_infer(decoding_layer_infer)"
   ]
  },
  {
   "cell_type": "markdown",
   "metadata": {},
   "source": [
    "### Build the Decoding Layer\n",
    "Implement `decoding_layer()` to create a Decoder RNN layer.\n",
    "\n",
    "- Create RNN cell for decoding using `rnn_size` and `num_layers`.\n",
    "- Create the output fuction using [`lambda`](https://docs.python.org/3/tutorial/controlflow.html#lambda-expressions) to transform it's input, logits, to class logits.\n",
    "- Use the your `decoding_layer_train(encoder_state, dec_cell, dec_embed_input, sequence_length, decoding_scope, output_fn, keep_prob)` function to get the training logits.\n",
    "- Use your `decoding_layer_infer(encoder_state, dec_cell, dec_embeddings, start_of_sequence_id, end_of_sequence_id, maximum_length, vocab_size, decoding_scope, output_fn, keep_prob)` function to get the inference logits.\n",
    "\n",
    "Note: You'll need to use [tf.variable_scope](https://www.tensorflow.org/api_docs/python/tf/variable_scope) to share variables between training and inference."
   ]
  },
  {
   "cell_type": "code",
   "execution_count": 28,
   "metadata": {
    "collapsed": false
   },
   "outputs": [
    {
     "name": "stdout",
     "output_type": "stream",
     "text": [
      "Tests Passed\n"
     ]
    }
   ],
   "source": [
    "def decoding_layer(dec_embed_input, dec_embeddings, encoder_state, vocab_size, sequence_length, rnn_size,\n",
    "                   num_layers, target_vocab_to_int, keep_prob):\n",
    "    \"\"\"\n",
    "    Create decoding layer\n",
    "    :param dec_embed_input: Decoder embedded input\n",
    "    :param dec_embeddings: Decoder embeddings\n",
    "    :param encoder_state: The encoded state\n",
    "    :param vocab_size: Size of vocabulary\n",
    "    :param sequence_length: Sequence Length\n",
    "    :param rnn_size: RNN Size\n",
    "    :param num_layers: Number of layers\n",
    "    :param target_vocab_to_int: Dictionary to go from the target words to an id\n",
    "    :param keep_prob: Dropout keep probability\n",
    "    :return: Tuple of (Training Logits, Inference Logits)\n",
    "    \"\"\"\n",
    "    # TODO: Implement Function\n",
    "    rnncell = tf.contrib.rnn.BasicLSTMCell(rnn_size)\n",
    "    dec_cell = tf.contrib.rnn.MultiRNNCell([rnncell]*num_layers)\n",
    "    \n",
    "    with tf.variable_scope(\"decoderscope\") as decoding_scope:\n",
    "        output_fn = lambda x: tf.contrib.layers.fully_connected(x,vocab_size,None, scope=decoding_scope)\n",
    "        \n",
    "        \n",
    "    with tf.variable_scope(\"decoderscope\") as decoding_scope:\n",
    "        train_outputs = decoding_layer_train(encoder_state, dec_cell, dec_embed_input, sequence_length, decoding_scope, output_fn, keep_prob)\n",
    "    \n",
    "    with tf.variable_scope(\"decoderscope\", reuse=True) as decoding_scope:\n",
    "        infer_outputs = decoding_layer_infer(encoder_state, dec_cell, dec_embeddings, target_vocab_to_int['<GO>'], target_vocab_to_int['<EOS>'], sequence_length, vocab_size, decoding_scope, output_fn, keep_prob)\n",
    "        \n",
    "        \n",
    "    return train_outputs, infer_outputs\n",
    "\n",
    "\n",
    "\"\"\"\n",
    "DON'T MODIFY ANYTHING IN THIS CELL THAT IS BELOW THIS LINE\n",
    "\"\"\"\n",
    "tests.test_decoding_layer(decoding_layer)"
   ]
  },
  {
   "cell_type": "markdown",
   "metadata": {},
   "source": [
    "### Build the Neural Network\n",
    "Apply the functions you implemented above to:\n",
    "\n",
    "- Apply embedding to the input data for the encoder.\n",
    "- Encode the input using your `encoding_layer(rnn_inputs, rnn_size, num_layers, keep_prob)`.\n",
    "- Process target data using your `process_decoding_input(target_data, target_vocab_to_int, batch_size)` function.\n",
    "- Apply embedding to the target data for the decoder.\n",
    "- Decode the encoded input using your `decoding_layer(dec_embed_input, dec_embeddings, encoder_state, vocab_size, sequence_length, rnn_size, num_layers, target_vocab_to_int, keep_prob)`."
   ]
  },
  {
   "cell_type": "code",
   "execution_count": 29,
   "metadata": {
    "collapsed": false
   },
   "outputs": [
    {
     "name": "stdout",
     "output_type": "stream",
     "text": [
      "Tests Passed\n"
     ]
    }
   ],
   "source": [
    "def seq2seq_model(input_data, target_data, keep_prob, batch_size, sequence_length, source_vocab_size, target_vocab_size,\n",
    "                  enc_embedding_size, dec_embedding_size, rnn_size, num_layers, target_vocab_to_int):\n",
    "    \"\"\"\n",
    "    Build the Sequence-to-Sequence part of the neural network\n",
    "    :param input_data: Input placeholder\n",
    "    :param target_data: Target placeholder\n",
    "    :param keep_prob: Dropout keep probability placeholder\n",
    "    :param batch_size: Batch Size\n",
    "    :param sequence_length: Sequence Length\n",
    "    :param source_vocab_size: Source vocabulary size\n",
    "    :param target_vocab_size: Target vocabulary size\n",
    "    :param enc_embedding_size: Decoder embedding size\n",
    "    :param dec_embedding_size: Encoder embedding size\n",
    "    :param rnn_size: RNN Size\n",
    "    :param num_layers: Number of layers\n",
    "    :param target_vocab_to_int: Dictionary to go from the target words to an id\n",
    "    :return: Tuple of (Training Logits, Inference Logits)\n",
    "    \"\"\"\n",
    "    # TODO: Implement Function\n",
    "    \n",
    "    enc_embeddings_layer = tf.Variable(tf.random_uniform([source_vocab_size,enc_embedding_size]))\n",
    "    encoder_embeddingslayer_output = tf.nn.embedding_lookup(enc_embeddings_layer, input_data)    \n",
    "    enc_state = encoding_layer(encoder_embeddingslayer_output, rnn_size, num_layers, keep_prob)\n",
    "    \n",
    "    \n",
    "    processed_target_data = process_decoding_input(target_data, target_vocab_to_int, batch_size)\n",
    "    dec_embeddings_layer = tf.Variable(tf.random_uniform([target_vocab_size,dec_embedding_size]))\n",
    "    decoder_embeddingslayer_output = tf.nn.embedding_lookup(dec_embeddings_layer, processed_target_data)\n",
    "    \n",
    "    \n",
    "    \n",
    "    traininglogits,inferlogits = decoding_layer(decoder_embeddingslayer_output, dec_embeddings_layer, enc_state, target_vocab_size, sequence_length, rnn_size, num_layers, target_vocab_to_int, keep_prob)\n",
    "    \n",
    "    return (traininglogits,inferlogits)\n",
    "\n",
    "\n",
    "\"\"\"\n",
    "DON'T MODIFY ANYTHING IN THIS CELL THAT IS BELOW THIS LINE\n",
    "\"\"\"\n",
    "tests.test_seq2seq_model(seq2seq_model)"
   ]
  },
  {
   "cell_type": "markdown",
   "metadata": {},
   "source": [
    "## Neural Network Training\n",
    "### Hyperparameters\n",
    "Tune the following parameters:\n",
    "\n",
    "- Set `epochs` to the number of epochs.\n",
    "- Set `batch_size` to the batch size.\n",
    "- Set `rnn_size` to the size of the RNNs.\n",
    "- Set `num_layers` to the number of layers.\n",
    "- Set `encoding_embedding_size` to the size of the embedding for the encoder.\n",
    "- Set `decoding_embedding_size` to the size of the embedding for the decoder.\n",
    "- Set `learning_rate` to the learning rate.\n",
    "- Set `keep_probability` to the Dropout keep probability"
   ]
  },
  {
   "cell_type": "code",
   "execution_count": 83,
   "metadata": {
    "collapsed": true
   },
   "outputs": [],
   "source": [
    "# Number of Epochs\n",
    "epochs = 25\n",
    "# Batch Size\n",
    "batch_size = 1024\n",
    "# RNN Size\n",
    "rnn_size = 56\n",
    "# Number of Layers\n",
    "num_layers = 3\n",
    "# Embedding Size\n",
    "encoding_embedding_size = 13\n",
    "decoding_embedding_size = 13\n",
    "# Learning Rate\n",
    "learning_rate = 0.01\n",
    "# Dropout Keep Probability\n",
    "keep_probability = 0.90"
   ]
  },
  {
   "cell_type": "markdown",
   "metadata": {},
   "source": [
    "### Build the Graph\n",
    "Build the graph using the neural network you implemented."
   ]
  },
  {
   "cell_type": "code",
   "execution_count": 84,
   "metadata": {
    "collapsed": true
   },
   "outputs": [],
   "source": [
    "\"\"\"\n",
    "DON'T MODIFY ANYTHING IN THIS CELL\n",
    "\"\"\"\n",
    "save_path = 'checkpoints/dev'\n",
    "(source_int_text, target_int_text), (source_vocab_to_int, target_vocab_to_int), _ = helper.load_preprocess()\n",
    "max_source_sentence_length = max([len(sentence) for sentence in source_int_text])\n",
    "\n",
    "train_graph = tf.Graph()\n",
    "with train_graph.as_default():\n",
    "    input_data, targets, lr, keep_prob = model_inputs()\n",
    "    sequence_length = tf.placeholder_with_default(max_source_sentence_length, None, name='sequence_length')\n",
    "    input_shape = tf.shape(input_data)\n",
    "    \n",
    "    train_logits, inference_logits = seq2seq_model(\n",
    "        tf.reverse(input_data, [-1]), targets, keep_prob, batch_size, sequence_length, len(source_vocab_to_int), len(target_vocab_to_int),\n",
    "        encoding_embedding_size, decoding_embedding_size, rnn_size, num_layers, target_vocab_to_int)\n",
    "\n",
    "    tf.identity(inference_logits, 'logits')\n",
    "    with tf.name_scope(\"optimization\"):\n",
    "        # Loss function\n",
    "        cost = tf.contrib.seq2seq.sequence_loss(\n",
    "            train_logits,\n",
    "            targets,\n",
    "            tf.ones([input_shape[0], sequence_length]))\n",
    "\n",
    "        # Optimizer\n",
    "        optimizer = tf.train.AdamOptimizer(lr)\n",
    "\n",
    "        # Gradient Clipping\n",
    "        gradients = optimizer.compute_gradients(cost)\n",
    "        capped_gradients = [(tf.clip_by_value(grad, -1., 1.), var) for grad, var in gradients if grad is not None]\n",
    "        train_op = optimizer.apply_gradients(capped_gradients)"
   ]
  },
  {
   "cell_type": "markdown",
   "metadata": {},
   "source": [
    "### Train\n",
    "Train the neural network on the preprocessed data. If you have a hard time getting a good loss, check the forms to see if anyone is having the same problem."
   ]
  },
  {
   "cell_type": "code",
   "execution_count": 85,
   "metadata": {
    "collapsed": false,
    "scrolled": true
   },
   "outputs": [
    {
     "name": "stdout",
     "output_type": "stream",
     "text": [
      "Epoch   0 Batch    0/134 - Train Accuracy:  0.302, Validation Accuracy:  0.342, Loss:  5.883\n",
      "Epoch   0 Batch   20/134 - Train Accuracy:  0.362, Validation Accuracy:  0.367, Loss:  2.955\n",
      "Epoch   0 Batch   40/134 - Train Accuracy:  0.390, Validation Accuracy:  0.418, Loss:  2.746\n",
      "Epoch   0 Batch   60/134 - Train Accuracy:  0.420, Validation Accuracy:  0.448, Loss:  2.537\n",
      "Epoch   0 Batch   80/134 - Train Accuracy:  0.423, Validation Accuracy:  0.455, Loss:  2.369\n",
      "Epoch   0 Batch  100/134 - Train Accuracy:  0.464, Validation Accuracy:  0.493, Loss:  2.166\n",
      "Epoch   0 Batch  120/134 - Train Accuracy:  0.458, Validation Accuracy:  0.480, Loss:  1.974\n",
      "Epoch   1 Batch    0/134 - Train Accuracy:  0.450, Validation Accuracy:  0.484, Loss:  1.975\n",
      "Epoch   1 Batch   20/134 - Train Accuracy:  0.475, Validation Accuracy:  0.481, Loss:  1.755\n",
      "Epoch   1 Batch   40/134 - Train Accuracy:  0.471, Validation Accuracy:  0.491, Loss:  1.700\n",
      "Epoch   1 Batch   60/134 - Train Accuracy:  0.466, Validation Accuracy:  0.488, Loss:  1.462\n",
      "Epoch   1 Batch   80/134 - Train Accuracy:  0.462, Validation Accuracy:  0.495, Loss:  1.290\n",
      "Epoch   1 Batch  100/134 - Train Accuracy:  0.461, Validation Accuracy:  0.481, Loss:  1.144\n",
      "Epoch   1 Batch  120/134 - Train Accuracy:  0.488, Validation Accuracy:  0.507, Loss:  1.040\n",
      "Epoch   2 Batch    0/134 - Train Accuracy:  0.485, Validation Accuracy:  0.509, Loss:  0.994\n",
      "Epoch   2 Batch   20/134 - Train Accuracy:  0.528, Validation Accuracy:  0.529, Loss:  0.893\n",
      "Epoch   2 Batch   40/134 - Train Accuracy:  0.507, Validation Accuracy:  0.517, Loss:  0.866\n",
      "Epoch   2 Batch   60/134 - Train Accuracy:  0.527, Validation Accuracy:  0.543, Loss:  0.831\n",
      "Epoch   2 Batch   80/134 - Train Accuracy:  0.525, Validation Accuracy:  0.547, Loss:  0.815\n",
      "Epoch   2 Batch  100/134 - Train Accuracy:  0.556, Validation Accuracy:  0.563, Loss:  0.780\n",
      "Epoch   2 Batch  120/134 - Train Accuracy:  0.561, Validation Accuracy:  0.573, Loss:  0.765\n",
      "Epoch   3 Batch    0/134 - Train Accuracy:  0.565, Validation Accuracy:  0.587, Loss:  0.756\n",
      "Epoch   3 Batch   20/134 - Train Accuracy:  0.584, Validation Accuracy:  0.575, Loss:  0.702\n",
      "Epoch   3 Batch   40/134 - Train Accuracy:  0.580, Validation Accuracy:  0.584, Loss:  0.704\n",
      "Epoch   3 Batch   60/134 - Train Accuracy:  0.592, Validation Accuracy:  0.598, Loss:  0.686\n",
      "Epoch   3 Batch   80/134 - Train Accuracy:  0.582, Validation Accuracy:  0.591, Loss:  0.682\n",
      "Epoch   3 Batch  100/134 - Train Accuracy:  0.595, Validation Accuracy:  0.614, Loss:  0.664\n",
      "Epoch   3 Batch  120/134 - Train Accuracy:  0.594, Validation Accuracy:  0.605, Loss:  0.659\n",
      "Epoch   4 Batch    0/134 - Train Accuracy:  0.590, Validation Accuracy:  0.606, Loss:  0.653\n",
      "Epoch   4 Batch   20/134 - Train Accuracy:  0.620, Validation Accuracy:  0.614, Loss:  0.618\n",
      "Epoch   4 Batch   40/134 - Train Accuracy:  0.620, Validation Accuracy:  0.623, Loss:  0.623\n",
      "Epoch   4 Batch   60/134 - Train Accuracy:  0.606, Validation Accuracy:  0.621, Loss:  0.624\n",
      "Epoch   4 Batch   80/134 - Train Accuracy:  0.610, Validation Accuracy:  0.625, Loss:  0.613\n",
      "Epoch   4 Batch  100/134 - Train Accuracy:  0.612, Validation Accuracy:  0.637, Loss:  0.592\n",
      "Epoch   4 Batch  120/134 - Train Accuracy:  0.621, Validation Accuracy:  0.643, Loss:  0.588\n",
      "Epoch   5 Batch    0/134 - Train Accuracy:  0.616, Validation Accuracy:  0.640, Loss:  0.575\n",
      "Epoch   5 Batch   20/134 - Train Accuracy:  0.653, Validation Accuracy:  0.642, Loss:  0.542\n",
      "Epoch   5 Batch   40/134 - Train Accuracy:  0.649, Validation Accuracy:  0.653, Loss:  0.552\n",
      "Epoch   5 Batch   60/134 - Train Accuracy:  0.633, Validation Accuracy:  0.649, Loss:  0.543\n",
      "Epoch   5 Batch   80/134 - Train Accuracy:  0.633, Validation Accuracy:  0.646, Loss:  0.550\n",
      "Epoch   5 Batch  100/134 - Train Accuracy:  0.635, Validation Accuracy:  0.653, Loss:  0.527\n",
      "Epoch   5 Batch  120/134 - Train Accuracy:  0.641, Validation Accuracy:  0.653, Loss:  0.534\n",
      "Epoch   6 Batch    0/134 - Train Accuracy:  0.631, Validation Accuracy:  0.654, Loss:  0.513\n",
      "Epoch   6 Batch   20/134 - Train Accuracy:  0.675, Validation Accuracy:  0.666, Loss:  0.474\n",
      "Epoch   6 Batch   40/134 - Train Accuracy:  0.669, Validation Accuracy:  0.670, Loss:  0.485\n",
      "Epoch   6 Batch   60/134 - Train Accuracy:  0.668, Validation Accuracy:  0.677, Loss:  0.473\n",
      "Epoch   6 Batch   80/134 - Train Accuracy:  0.666, Validation Accuracy:  0.679, Loss:  0.468\n",
      "Epoch   6 Batch  100/134 - Train Accuracy:  0.669, Validation Accuracy:  0.686, Loss:  0.450\n",
      "Epoch   6 Batch  120/134 - Train Accuracy:  0.680, Validation Accuracy:  0.687, Loss:  0.444\n",
      "Epoch   7 Batch    0/134 - Train Accuracy:  0.683, Validation Accuracy:  0.698, Loss:  0.435\n",
      "Epoch   7 Batch   20/134 - Train Accuracy:  0.699, Validation Accuracy:  0.699, Loss:  0.405\n",
      "Epoch   7 Batch   40/134 - Train Accuracy:  0.702, Validation Accuracy:  0.704, Loss:  0.405\n",
      "Epoch   7 Batch   60/134 - Train Accuracy:  0.698, Validation Accuracy:  0.705, Loss:  0.398\n",
      "Epoch   7 Batch   80/134 - Train Accuracy:  0.702, Validation Accuracy:  0.711, Loss:  0.395\n",
      "Epoch   7 Batch  100/134 - Train Accuracy:  0.700, Validation Accuracy:  0.713, Loss:  0.382\n",
      "Epoch   7 Batch  120/134 - Train Accuracy:  0.705, Validation Accuracy:  0.716, Loss:  0.377\n",
      "Epoch   8 Batch    0/134 - Train Accuracy:  0.707, Validation Accuracy:  0.725, Loss:  0.366\n",
      "Epoch   8 Batch   20/134 - Train Accuracy:  0.725, Validation Accuracy:  0.731, Loss:  0.333\n",
      "Epoch   8 Batch   40/134 - Train Accuracy:  0.733, Validation Accuracy:  0.740, Loss:  0.342\n",
      "Epoch   8 Batch   60/134 - Train Accuracy:  0.734, Validation Accuracy:  0.746, Loss:  0.333\n",
      "Epoch   8 Batch   80/134 - Train Accuracy:  0.734, Validation Accuracy:  0.744, Loss:  0.327\n",
      "Epoch   8 Batch  100/134 - Train Accuracy:  0.740, Validation Accuracy:  0.757, Loss:  0.322\n",
      "Epoch   8 Batch  120/134 - Train Accuracy:  0.742, Validation Accuracy:  0.759, Loss:  0.318\n",
      "Epoch   9 Batch    0/134 - Train Accuracy:  0.746, Validation Accuracy:  0.763, Loss:  0.310\n",
      "Epoch   9 Batch   20/134 - Train Accuracy:  0.758, Validation Accuracy:  0.760, Loss:  0.288\n",
      "Epoch   9 Batch   40/134 - Train Accuracy:  0.751, Validation Accuracy:  0.759, Loss:  0.295\n",
      "Epoch   9 Batch   60/134 - Train Accuracy:  0.768, Validation Accuracy:  0.771, Loss:  0.284\n",
      "Epoch   9 Batch   80/134 - Train Accuracy:  0.765, Validation Accuracy:  0.775, Loss:  0.285\n",
      "Epoch   9 Batch  100/134 - Train Accuracy:  0.765, Validation Accuracy:  0.785, Loss:  0.278\n",
      "Epoch   9 Batch  120/134 - Train Accuracy:  0.759, Validation Accuracy:  0.779, Loss:  0.270\n",
      "Epoch  10 Batch    0/134 - Train Accuracy:  0.766, Validation Accuracy:  0.785, Loss:  0.267\n",
      "Epoch  10 Batch   20/134 - Train Accuracy:  0.783, Validation Accuracy:  0.790, Loss:  0.247\n",
      "Epoch  10 Batch   40/134 - Train Accuracy:  0.778, Validation Accuracy:  0.791, Loss:  0.257\n",
      "Epoch  10 Batch   60/134 - Train Accuracy:  0.786, Validation Accuracy:  0.796, Loss:  0.247\n",
      "Epoch  10 Batch   80/134 - Train Accuracy:  0.785, Validation Accuracy:  0.796, Loss:  0.242\n",
      "Epoch  10 Batch  100/134 - Train Accuracy:  0.781, Validation Accuracy:  0.799, Loss:  0.239\n",
      "Epoch  10 Batch  120/134 - Train Accuracy:  0.786, Validation Accuracy:  0.801, Loss:  0.236\n",
      "Epoch  11 Batch    0/134 - Train Accuracy:  0.788, Validation Accuracy:  0.800, Loss:  0.227\n",
      "Epoch  11 Batch   20/134 - Train Accuracy:  0.800, Validation Accuracy:  0.804, Loss:  0.212\n",
      "Epoch  11 Batch   40/134 - Train Accuracy:  0.792, Validation Accuracy:  0.806, Loss:  0.222\n",
      "Epoch  11 Batch   60/134 - Train Accuracy:  0.802, Validation Accuracy:  0.802, Loss:  0.221\n",
      "Epoch  11 Batch   80/134 - Train Accuracy:  0.799, Validation Accuracy:  0.810, Loss:  0.215\n",
      "Epoch  11 Batch  100/134 - Train Accuracy:  0.792, Validation Accuracy:  0.804, Loss:  0.208\n",
      "Epoch  11 Batch  120/134 - Train Accuracy:  0.796, Validation Accuracy:  0.809, Loss:  0.204\n",
      "Epoch  12 Batch    0/134 - Train Accuracy:  0.801, Validation Accuracy:  0.813, Loss:  0.199\n",
      "Epoch  12 Batch   20/134 - Train Accuracy:  0.809, Validation Accuracy:  0.811, Loss:  0.188\n",
      "Epoch  12 Batch   40/134 - Train Accuracy:  0.798, Validation Accuracy:  0.818, Loss:  0.195\n",
      "Epoch  12 Batch   60/134 - Train Accuracy:  0.818, Validation Accuracy:  0.814, Loss:  0.188\n",
      "Epoch  12 Batch   80/134 - Train Accuracy:  0.807, Validation Accuracy:  0.817, Loss:  0.189\n",
      "Epoch  12 Batch  100/134 - Train Accuracy:  0.797, Validation Accuracy:  0.814, Loss:  0.185\n",
      "Epoch  12 Batch  120/134 - Train Accuracy:  0.798, Validation Accuracy:  0.818, Loss:  0.187\n",
      "Epoch  13 Batch    0/134 - Train Accuracy:  0.814, Validation Accuracy:  0.819, Loss:  0.179\n",
      "Epoch  13 Batch   20/134 - Train Accuracy:  0.818, Validation Accuracy:  0.830, Loss:  0.167\n",
      "Epoch  13 Batch   40/134 - Train Accuracy:  0.816, Validation Accuracy:  0.836, Loss:  0.169\n",
      "Epoch  13 Batch   60/134 - Train Accuracy:  0.831, Validation Accuracy:  0.844, Loss:  0.163\n",
      "Epoch  13 Batch   80/134 - Train Accuracy:  0.840, Validation Accuracy:  0.845, Loss:  0.164\n",
      "Epoch  13 Batch  100/134 - Train Accuracy:  0.826, Validation Accuracy:  0.847, Loss:  0.155\n",
      "Epoch  13 Batch  120/134 - Train Accuracy:  0.829, Validation Accuracy:  0.852, Loss:  0.157\n",
      "Epoch  14 Batch    0/134 - Train Accuracy:  0.839, Validation Accuracy:  0.853, Loss:  0.151\n",
      "Epoch  14 Batch   20/134 - Train Accuracy:  0.847, Validation Accuracy:  0.852, Loss:  0.142\n",
      "Epoch  14 Batch   40/134 - Train Accuracy:  0.850, Validation Accuracy:  0.864, Loss:  0.146\n",
      "Epoch  14 Batch   60/134 - Train Accuracy:  0.845, Validation Accuracy:  0.862, Loss:  0.143\n",
      "Epoch  14 Batch   80/134 - Train Accuracy:  0.866, Validation Accuracy:  0.867, Loss:  0.140\n",
      "Epoch  14 Batch  100/134 - Train Accuracy:  0.848, Validation Accuracy:  0.864, Loss:  0.141\n",
      "Epoch  14 Batch  120/134 - Train Accuracy:  0.846, Validation Accuracy:  0.868, Loss:  0.138\n",
      "Epoch  15 Batch    0/134 - Train Accuracy:  0.859, Validation Accuracy:  0.873, Loss:  0.134\n",
      "Epoch  15 Batch   20/134 - Train Accuracy:  0.863, Validation Accuracy:  0.879, Loss:  0.125\n",
      "Epoch  15 Batch   40/134 - Train Accuracy:  0.854, Validation Accuracy:  0.863, Loss:  0.133\n",
      "Epoch  15 Batch   60/134 - Train Accuracy:  0.863, Validation Accuracy:  0.879, Loss:  0.123\n",
      "Epoch  15 Batch   80/134 - Train Accuracy:  0.874, Validation Accuracy:  0.880, Loss:  0.127\n",
      "Epoch  15 Batch  100/134 - Train Accuracy:  0.880, Validation Accuracy:  0.886, Loss:  0.127\n",
      "Epoch  15 Batch  120/134 - Train Accuracy:  0.874, Validation Accuracy:  0.890, Loss:  0.125\n",
      "Epoch  16 Batch    0/134 - Train Accuracy:  0.876, Validation Accuracy:  0.894, Loss:  0.121\n",
      "Epoch  16 Batch   20/134 - Train Accuracy:  0.888, Validation Accuracy:  0.900, Loss:  0.113\n",
      "Epoch  16 Batch   40/134 - Train Accuracy:  0.890, Validation Accuracy:  0.898, Loss:  0.120\n",
      "Epoch  16 Batch   60/134 - Train Accuracy:  0.889, Validation Accuracy:  0.907, Loss:  0.115\n",
      "Epoch  16 Batch   80/134 - Train Accuracy:  0.906, Validation Accuracy:  0.912, Loss:  0.115\n",
      "Epoch  16 Batch  100/134 - Train Accuracy:  0.882, Validation Accuracy:  0.884, Loss:  0.112\n",
      "Epoch  16 Batch  120/134 - Train Accuracy:  0.903, Validation Accuracy:  0.911, Loss:  0.112\n",
      "Epoch  17 Batch    0/134 - Train Accuracy:  0.901, Validation Accuracy:  0.911, Loss:  0.110\n",
      "Epoch  17 Batch   20/134 - Train Accuracy:  0.905, Validation Accuracy:  0.916, Loss:  0.098\n",
      "Epoch  17 Batch   40/134 - Train Accuracy:  0.903, Validation Accuracy:  0.908, Loss:  0.107\n",
      "Epoch  17 Batch   60/134 - Train Accuracy:  0.905, Validation Accuracy:  0.921, Loss:  0.104\n",
      "Epoch  17 Batch   80/134 - Train Accuracy:  0.916, Validation Accuracy:  0.919, Loss:  0.101\n",
      "Epoch  17 Batch  100/134 - Train Accuracy:  0.899, Validation Accuracy:  0.915, Loss:  0.100\n",
      "Epoch  17 Batch  120/134 - Train Accuracy:  0.905, Validation Accuracy:  0.918, Loss:  0.101\n",
      "Epoch  18 Batch    0/134 - Train Accuracy:  0.918, Validation Accuracy:  0.920, Loss:  0.093\n",
      "Epoch  18 Batch   20/134 - Train Accuracy:  0.912, Validation Accuracy:  0.913, Loss:  0.091\n",
      "Epoch  18 Batch   40/134 - Train Accuracy:  0.909, Validation Accuracy:  0.920, Loss:  0.096\n",
      "Epoch  18 Batch   60/134 - Train Accuracy:  0.910, Validation Accuracy:  0.921, Loss:  0.090\n",
      "Epoch  18 Batch   80/134 - Train Accuracy:  0.921, Validation Accuracy:  0.922, Loss:  0.095\n",
      "Epoch  18 Batch  100/134 - Train Accuracy:  0.908, Validation Accuracy:  0.926, Loss:  0.089\n",
      "Epoch  18 Batch  120/134 - Train Accuracy:  0.916, Validation Accuracy:  0.924, Loss:  0.092\n",
      "Epoch  19 Batch    0/134 - Train Accuracy:  0.925, Validation Accuracy:  0.929, Loss:  0.083\n",
      "Epoch  19 Batch   20/134 - Train Accuracy:  0.916, Validation Accuracy:  0.928, Loss:  0.079\n",
      "Epoch  19 Batch   40/134 - Train Accuracy:  0.922, Validation Accuracy:  0.927, Loss:  0.083\n",
      "Epoch  19 Batch   60/134 - Train Accuracy:  0.921, Validation Accuracy:  0.925, Loss:  0.079\n",
      "Epoch  19 Batch   80/134 - Train Accuracy:  0.932, Validation Accuracy:  0.926, Loss:  0.081\n",
      "Epoch  19 Batch  100/134 - Train Accuracy:  0.912, Validation Accuracy:  0.931, Loss:  0.083\n",
      "Epoch  19 Batch  120/134 - Train Accuracy:  0.923, Validation Accuracy:  0.935, Loss:  0.085\n",
      "Epoch  20 Batch    0/134 - Train Accuracy:  0.930, Validation Accuracy:  0.927, Loss:  0.075\n",
      "Epoch  20 Batch   20/134 - Train Accuracy:  0.922, Validation Accuracy:  0.935, Loss:  0.071\n",
      "Epoch  20 Batch   40/134 - Train Accuracy:  0.922, Validation Accuracy:  0.933, Loss:  0.076\n",
      "Epoch  20 Batch   60/134 - Train Accuracy:  0.924, Validation Accuracy:  0.927, Loss:  0.071\n",
      "Epoch  20 Batch   80/134 - Train Accuracy:  0.934, Validation Accuracy:  0.928, Loss:  0.075\n",
      "Epoch  20 Batch  100/134 - Train Accuracy:  0.921, Validation Accuracy:  0.931, Loss:  0.076\n",
      "Epoch  20 Batch  120/134 - Train Accuracy:  0.928, Validation Accuracy:  0.932, Loss:  0.074\n",
      "Epoch  21 Batch    0/134 - Train Accuracy:  0.936, Validation Accuracy:  0.933, Loss:  0.069\n",
      "Epoch  21 Batch   20/134 - Train Accuracy:  0.931, Validation Accuracy:  0.929, Loss:  0.066\n",
      "Epoch  21 Batch   40/134 - Train Accuracy:  0.925, Validation Accuracy:  0.929, Loss:  0.073\n",
      "Epoch  21 Batch   60/134 - Train Accuracy:  0.923, Validation Accuracy:  0.934, Loss:  0.069\n",
      "Epoch  21 Batch   80/134 - Train Accuracy:  0.934, Validation Accuracy:  0.929, Loss:  0.070\n",
      "Epoch  21 Batch  100/134 - Train Accuracy:  0.920, Validation Accuracy:  0.931, Loss:  0.069\n",
      "Epoch  21 Batch  120/134 - Train Accuracy:  0.928, Validation Accuracy:  0.937, Loss:  0.070\n",
      "Epoch  22 Batch    0/134 - Train Accuracy:  0.941, Validation Accuracy:  0.937, Loss:  0.064\n",
      "Epoch  22 Batch   20/134 - Train Accuracy:  0.930, Validation Accuracy:  0.937, Loss:  0.060\n",
      "Epoch  22 Batch   40/134 - Train Accuracy:  0.932, Validation Accuracy:  0.938, Loss:  0.067\n",
      "Epoch  22 Batch   60/134 - Train Accuracy:  0.930, Validation Accuracy:  0.932, Loss:  0.060\n",
      "Epoch  22 Batch   80/134 - Train Accuracy:  0.940, Validation Accuracy:  0.939, Loss:  0.063\n",
      "Epoch  22 Batch  100/134 - Train Accuracy:  0.929, Validation Accuracy:  0.943, Loss:  0.063\n",
      "Epoch  22 Batch  120/134 - Train Accuracy:  0.932, Validation Accuracy:  0.944, Loss:  0.065\n",
      "Epoch  23 Batch    0/134 - Train Accuracy:  0.944, Validation Accuracy:  0.945, Loss:  0.059\n",
      "Epoch  23 Batch   20/134 - Train Accuracy:  0.936, Validation Accuracy:  0.945, Loss:  0.057\n",
      "Epoch  23 Batch   40/134 - Train Accuracy:  0.933, Validation Accuracy:  0.945, Loss:  0.062\n",
      "Epoch  23 Batch   60/134 - Train Accuracy:  0.932, Validation Accuracy:  0.942, Loss:  0.058\n",
      "Epoch  23 Batch   80/134 - Train Accuracy:  0.947, Validation Accuracy:  0.944, Loss:  0.061\n",
      "Epoch  23 Batch  100/134 - Train Accuracy:  0.939, Validation Accuracy:  0.941, Loss:  0.060\n",
      "Epoch  23 Batch  120/134 - Train Accuracy:  0.935, Validation Accuracy:  0.939, Loss:  0.058\n",
      "Epoch  24 Batch    0/134 - Train Accuracy:  0.945, Validation Accuracy:  0.946, Loss:  0.056\n",
      "Epoch  24 Batch   20/134 - Train Accuracy:  0.944, Validation Accuracy:  0.942, Loss:  0.053\n",
      "Epoch  24 Batch   40/134 - Train Accuracy:  0.933, Validation Accuracy:  0.942, Loss:  0.058\n",
      "Epoch  24 Batch   60/134 - Train Accuracy:  0.930, Validation Accuracy:  0.946, Loss:  0.054\n",
      "Epoch  24 Batch   80/134 - Train Accuracy:  0.947, Validation Accuracy:  0.945, Loss:  0.055\n",
      "Epoch  24 Batch  100/134 - Train Accuracy:  0.935, Validation Accuracy:  0.942, Loss:  0.059\n",
      "Epoch  24 Batch  120/134 - Train Accuracy:  0.937, Validation Accuracy:  0.943, Loss:  0.058\n",
      "Model Trained and Saved\n"
     ]
    }
   ],
   "source": [
    "\"\"\"\n",
    "DON'T MODIFY ANYTHING IN THIS CELL\n",
    "\"\"\"\n",
    "import time\n",
    "\n",
    "def get_accuracy(target, logits):\n",
    "    \"\"\"\n",
    "    Calculate accuracy\n",
    "    \"\"\"\n",
    "    max_seq = max(target.shape[1], logits.shape[1])\n",
    "    if max_seq - target.shape[1]:\n",
    "        target = np.pad(\n",
    "            target,\n",
    "            [(0,0),(0,max_seq - target.shape[1])],\n",
    "            'constant')\n",
    "    if max_seq - logits.shape[1]:\n",
    "        logits = np.pad(\n",
    "            logits,\n",
    "            [(0,0),(0,max_seq - logits.shape[1]), (0,0)],\n",
    "            'constant')\n",
    "\n",
    "    return np.mean(np.equal(target, np.argmax(logits, 2)))\n",
    "\n",
    "train_source = source_int_text[batch_size:]\n",
    "train_target = target_int_text[batch_size:]\n",
    "\n",
    "valid_source = helper.pad_sentence_batch(source_int_text[:batch_size])\n",
    "valid_target = helper.pad_sentence_batch(target_int_text[:batch_size])\n",
    "\n",
    "with tf.Session(graph=train_graph) as sess:\n",
    "    sess.run(tf.global_variables_initializer())\n",
    "\n",
    "    for epoch_i in range(epochs):\n",
    "        for batch_i, (source_batch, target_batch) in enumerate(\n",
    "                helper.batch_data(train_source, train_target, batch_size)):\n",
    "            start_time = time.time()\n",
    "            \n",
    "            _, loss = sess.run(\n",
    "                [train_op, cost],\n",
    "                {input_data: source_batch,\n",
    "                 targets: target_batch,\n",
    "                 lr: learning_rate,\n",
    "                 sequence_length: target_batch.shape[1],\n",
    "                 keep_prob: keep_probability})\n",
    "            \n",
    "            batch_train_logits = sess.run(\n",
    "                inference_logits,\n",
    "                {input_data: source_batch, keep_prob: 1.0})\n",
    "            batch_valid_logits = sess.run(\n",
    "                inference_logits,\n",
    "                {input_data: valid_source, keep_prob: 1.0})\n",
    "                \n",
    "            train_acc = get_accuracy(target_batch, batch_train_logits)\n",
    "            valid_acc = get_accuracy(np.array(valid_target), batch_valid_logits)\n",
    "            end_time = time.time()\n",
    "            if batch_i%20 == 0:\n",
    "                print('Epoch {:>3} Batch {:>4}/{} - Train Accuracy: {:>6.3f}, Validation Accuracy: {:>6.3f}, Loss: {:>6.3f}'\n",
    "                  .format(epoch_i, batch_i, len(source_int_text) // batch_size, train_acc, valid_acc, loss))\n",
    "\n",
    "    # Save Model\n",
    "    saver = tf.train.Saver()\n",
    "    saver.save(sess, save_path)\n",
    "    print('Model Trained and Saved')"
   ]
  },
  {
   "cell_type": "markdown",
   "metadata": {},
   "source": [
    "### Save Parameters\n",
    "Save the `batch_size` and `save_path` parameters for inference."
   ]
  },
  {
   "cell_type": "code",
   "execution_count": 86,
   "metadata": {
    "collapsed": true
   },
   "outputs": [],
   "source": [
    "\"\"\"\n",
    "DON'T MODIFY ANYTHING IN THIS CELL\n",
    "\"\"\"\n",
    "# Save parameters for checkpoint\n",
    "helper.save_params(save_path)"
   ]
  },
  {
   "cell_type": "markdown",
   "metadata": {},
   "source": [
    "# Checkpoint"
   ]
  },
  {
   "cell_type": "code",
   "execution_count": 87,
   "metadata": {
    "collapsed": true
   },
   "outputs": [],
   "source": [
    "\"\"\"\n",
    "DON'T MODIFY ANYTHING IN THIS CELL\n",
    "\"\"\"\n",
    "import tensorflow as tf\n",
    "import numpy as np\n",
    "import helper\n",
    "import problem_unittests as tests\n",
    "\n",
    "_, (source_vocab_to_int, target_vocab_to_int), (source_int_to_vocab, target_int_to_vocab) = helper.load_preprocess()\n",
    "load_path = helper.load_params()"
   ]
  },
  {
   "cell_type": "markdown",
   "metadata": {},
   "source": [
    "## Sentence to Sequence\n",
    "To feed a sentence into the model for translation, you first need to preprocess it.  Implement the function `sentence_to_seq()` to preprocess new sentences.\n",
    "\n",
    "- Convert the sentence to lowercase\n",
    "- Convert words into ids using `vocab_to_int`\n",
    " - Convert words not in the vocabulary, to the `<UNK>` word id."
   ]
  },
  {
   "cell_type": "code",
   "execution_count": 88,
   "metadata": {
    "collapsed": false
   },
   "outputs": [
    {
     "data": {
      "text/plain": [
       "'heloo'"
      ]
     },
     "execution_count": 88,
     "metadata": {},
     "output_type": "execute_result"
    }
   ],
   "source": [
    "str=\"HELOO\"\n",
    "str.lower()"
   ]
  },
  {
   "cell_type": "code",
   "execution_count": 89,
   "metadata": {
    "collapsed": false
   },
   "outputs": [
    {
     "name": "stdout",
     "output_type": "stream",
     "text": [
      "Tests Passed\n"
     ]
    }
   ],
   "source": [
    "def sentence_to_seq(sentence, vocab_to_int):\n",
    "    \"\"\"\n",
    "    Convert a sentence to a sequence of ids\n",
    "    :param sentence: String\n",
    "    :param vocab_to_int: Dictionary to go from the words to an id\n",
    "    :return: List of word ids\n",
    "    \"\"\"\n",
    "    # TODO: Implement Function\n",
    "    sentence = sentence.lower()    \n",
    "    sentence_ids = [vocab_to_int.get(ch,vocab_to_int['<UNK>']) for ch in sentence.split()]\n",
    "    \n",
    "    return sentence_ids\n",
    "\n",
    "\n",
    "\"\"\"\n",
    "DON'T MODIFY ANYTHING IN THIS CELL THAT IS BELOW THIS LINE\n",
    "\"\"\"\n",
    "tests.test_sentence_to_seq(sentence_to_seq)"
   ]
  },
  {
   "cell_type": "markdown",
   "metadata": {},
   "source": [
    "## Translate\n",
    "This will translate `translate_sentence` from English to French."
   ]
  },
  {
   "cell_type": "code",
   "execution_count": 98,
   "metadata": {
    "collapsed": false
   },
   "outputs": [
    {
     "name": "stdout",
     "output_type": "stream",
     "text": [
      "Input\n",
      "  Word Ids:      [213, 134, 77, 192, 206, 53, 15, 154, 30, 41, 77, 107, 196, 9]\n",
      "  English Words: ['new', 'jersey', 'is', 'sometimes', 'quiet', 'during', 'autumn', ',', 'and', 'it', 'is', 'snowy', 'in', 'april']\n",
      "\n",
      "Prediction\n",
      "  Word Ids:      [347, 156, 139, 115, 89, 85, 240, 290, 160, 106, 135, 139, 214, 146, 136, 148, 1]\n",
      "  French Words: ['new', 'jersey', 'est', 'parfois', 'calme', 'pendant', \"l'\", 'automne', ',', 'et', 'il', 'est', 'neigeux', 'en', 'avril', '.', '<EOS>']\n"
     ]
    }
   ],
   "source": [
    "translate_sentence = 'he saw a old yellow truck'\n",
    "translate_sentence = 'new jersey is sometimes quiet during autumn , and it is snowy in april'\n",
    "\n",
    "\n",
    "\"\"\"\n",
    "DON'T MODIFY ANYTHING IN THIS CELL\n",
    "\"\"\"\n",
    "translate_sentence = sentence_to_seq(translate_sentence, source_vocab_to_int)\n",
    "\n",
    "loaded_graph = tf.Graph()\n",
    "with tf.Session(graph=loaded_graph) as sess:\n",
    "    # Load saved model\n",
    "    loader = tf.train.import_meta_graph(load_path + '.meta')\n",
    "    loader.restore(sess, load_path)\n",
    "\n",
    "    input_data = loaded_graph.get_tensor_by_name('input:0')\n",
    "    logits = loaded_graph.get_tensor_by_name('logits:0')\n",
    "    keep_prob = loaded_graph.get_tensor_by_name('keep_prob:0')\n",
    "\n",
    "    translate_logits = sess.run(logits, {input_data: [translate_sentence], keep_prob: 1.0})[0]\n",
    "\n",
    "print('Input')\n",
    "print('  Word Ids:      {}'.format([i for i in translate_sentence]))\n",
    "print('  English Words: {}'.format([source_int_to_vocab[i] for i in translate_sentence]))\n",
    "\n",
    "print('\\nPrediction')\n",
    "print('  Word Ids:      {}'.format([i for i in np.argmax(translate_logits, 1)]))\n",
    "print('  French Words: {}'.format([target_int_to_vocab[i] for i in np.argmax(translate_logits, 1)]))"
   ]
  },
  {
   "cell_type": "markdown",
   "metadata": {},
   "source": [
    "## Imperfect Translation\n",
    "You might notice that some sentences translate better than others.  Since the dataset you're using only has a vocabulary of 227 English words of the thousands that you use, you're only going to see good results using these words.  For this project, you don't need a perfect translation. However, if you want to create a better translation model, you'll need better data.\n",
    "\n",
    "You can train on the [WMT10 French-English corpus](http://www.statmt.org/wmt10/training-giga-fren.tar).  This dataset has more vocabulary and richer in topics discussed.  However, this will take you days to train, so make sure you've a GPU and the neural network is performing well on dataset we provided.  Just make sure you play with the WMT10 corpus after you've submitted this project.\n",
    "## Submitting This Project\n",
    "When submitting this project, make sure to run all the cells before saving the notebook. Save the notebook file as \"dlnd_language_translation.ipynb\" and save it as a HTML file under \"File\" -> \"Download as\". Include the \"helper.py\" and \"problem_unittests.py\" files in your submission."
   ]
  }
 ],
 "metadata": {
  "anaconda-cloud": {},
  "kernelspec": {
   "display_name": "Python [default]",
   "language": "python",
   "name": "python3"
  },
  "language_info": {
   "codemirror_mode": {
    "name": "ipython",
    "version": 3
   },
   "file_extension": ".py",
   "mimetype": "text/x-python",
   "name": "python",
   "nbconvert_exporter": "python",
   "pygments_lexer": "ipython3",
   "version": "3.5.2"
  }
 },
 "nbformat": 4,
 "nbformat_minor": 1
}
